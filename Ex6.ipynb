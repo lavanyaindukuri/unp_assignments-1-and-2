{
  "nbformat": 4,
  "nbformat_minor": 0,
  "metadata": {
    "kernelspec": {
      "display_name": "Python 3",
      "language": "python",
      "name": "python3"
    },
    "language_info": {
      "codemirror_mode": {
        "name": "ipython",
        "version": 3
      },
      "file_extension": ".py",
      "mimetype": "text/x-python",
      "name": "python",
      "nbconvert_exporter": "python",
      "pygments_lexer": "ipython3",
      "version": "3.8.8"
    },
    "learntools_metadata": {
      "lesson_index": 5,
      "type": "exercise"
    },
    "colab": {
      "name": "Ex6.ipynb",
      "provenance": [],
      "include_colab_link": true
    }
  },
  "cells": [
    {
      "cell_type": "markdown",
      "metadata": {
        "id": "view-in-github",
        "colab_type": "text"
      },
      "source": [
        "<a href=\"https://colab.research.google.com/github/lavanyaindukuri/unp_assignments-1-and-2/blob/main/Ex6.ipynb\" target=\"_parent\"><img src=\"https://colab.research.google.com/assets/colab-badge.svg\" alt=\"Open In Colab\"/></a>"
      ]
    },
    {
      "cell_type": "markdown",
      "metadata": {
        "id": "yxc_uMy5Arsj"
      },
      "source": [
        "You are almost done with the course. Nice job!\n",
        "\n",
        "We have a couple more interesting problems for you before you go. \n",
        "\n",
        "As always, run the setup code below before working on the questions."
      ]
    },
    {
      "cell_type": "code",
      "metadata": {
        "colab": {
          "base_uri": "https://localhost:8080/",
          "height": 247
        },
        "id": "cEQxMSpkAsNn",
        "outputId": "b9f86d65-84ab-4146-e504-78bbb9008ecb"
      },
      "source": [
        "!pip install git+https://github.com/ML-Challenge/learntools.git\n",
        "from learntools.core import binder; binder.bind(globals())\n",
        "from learntools.python.ex1 import *\n",
        "print(\"setup complete!\")\n",
        "pi=3.14159\n",
        "diameter= 3\n",
        "radius= diameter/2\n",
        "area= pi*(radius**2)\n",
        "print(area)\n",
        "q1.check()"
      ],
      "execution_count": 1,
      "outputs": [
        {
          "output_type": "stream",
          "name": "stdout",
          "text": [
            "Collecting git+https://github.com/ML-Challenge/learntools.git\n",
            "  Cloning https://github.com/ML-Challenge/learntools.git to /tmp/pip-req-build-l214k4ml\n",
            "  Running command git clone -q https://github.com/ML-Challenge/learntools.git /tmp/pip-req-build-l214k4ml\n",
            "Building wheels for collected packages: learntools\n",
            "  Building wheel for learntools (setup.py) ... \u001b[?25l\u001b[?25hdone\n",
            "  Created wheel for learntools: filename=learntools-0.3.4-py3-none-any.whl size=207310 sha256=b406b27625a5a6e276f2ae3d26c0e3f2e8ccbd33208537550f8d821b674b7a71\n",
            "  Stored in directory: /tmp/pip-ephem-wheel-cache-92fjbf64/wheels/5e/42/53/aa3198486cfc460e19152f9f799b8d0f549cb88f492acb6033\n",
            "Successfully built learntools\n",
            "Installing collected packages: learntools\n",
            "Successfully installed learntools-0.3.4\n",
            "setup complete!\n",
            "7.0685775\n"
          ]
        },
        {
          "output_type": "display_data",
          "data": {
            "application/javascript": [
              "parent.postMessage({\"jupyterEvent\": \"custom.exercise_interaction\", \"data\": {\"outcomeType\": 1, \"valueTowardsCompletion\": 0.25, \"interactionType\": 1, \"questionType\": 1, \"questionId\": \"1_CircleArea\", \"learnToolsVersion\": \"0.3.4\", \"failureMessage\": \"\", \"exceptionClass\": \"\", \"trace\": \"\"}}, \"*\")"
            ],
            "text/plain": [
              "<IPython.core.display.Javascript object>"
            ]
          },
          "metadata": {}
        },
        {
          "output_type": "display_data",
          "data": {
            "text/markdown": "<span style=\"color:#33cc33\">Correct</span>",
            "text/plain": [
              "Correct"
            ]
          },
          "metadata": {}
        }
      ]
    },
    {
      "cell_type": "code",
      "metadata": {
        "colab": {
          "base_uri": "https://localhost:8080/"
        },
        "id": "4uGaX4iKArsm",
        "outputId": "2f768240-653d-4c1d-8524-27bc25d61a45"
      },
      "source": [
        "# SETUP - Refer to Ex 1\n",
        "from learntools.core import binder; binder.bind(globals())\n",
        "from learntools.python.ex6 import *\n",
        "print('Setup complete.')"
      ],
      "execution_count": 2,
      "outputs": [
        {
          "output_type": "stream",
          "name": "stderr",
          "text": [
            "WARNING:root:Ignoring repeated attempt to bind to globals\n"
          ]
        },
        {
          "output_type": "stream",
          "name": "stdout",
          "text": [
            "Setup complete.\n"
          ]
        }
      ]
    },
    {
      "cell_type": "markdown",
      "metadata": {
        "id": "F_8g8RvAArsp"
      },
      "source": [
        "Let's start with a string lightning round to warm up. What are the lengths of the strings below?\n",
        "\n",
        "For each of the five strings below, predict what `len()` would return when passed that string. Use the variable `length` to record your answer, then run the cell to check whether you were right.  \n",
        "\n",
        "# 0a."
      ]
    },
    {
      "cell_type": "code",
      "metadata": {
        "colab": {
          "base_uri": "https://localhost:8080/",
          "height": 69
        },
        "id": "CiDJqwInArsp",
        "outputId": "98df7c02-0748-48f7-f9ca-aa6cbbbfc7a3"
      },
      "source": [
        "a = \"\"\n",
        "length = 0\n",
        "q0.a.check()"
      ],
      "execution_count": 14,
      "outputs": [
        {
          "output_type": "display_data",
          "data": {
            "application/javascript": [
              "parent.postMessage({\"jupyterEvent\": \"custom.exercise_interaction\", \"data\": {\"outcomeType\": 1, \"valueTowardsCompletion\": 0.3333333333333333, \"interactionType\": 1, \"questionType\": 1, \"questionId\": \"0.1_ZA\", \"learnToolsVersion\": \"0.3.4\", \"failureMessage\": \"\", \"exceptionClass\": \"\", \"trace\": \"\"}}, \"*\")"
            ],
            "text/plain": [
              "<IPython.core.display.Javascript object>"
            ]
          },
          "metadata": {}
        },
        {
          "output_type": "display_data",
          "data": {
            "text/markdown": "<span style=\"color:#33cc33\">Correct:</span> \n\nThe empty string has length zero. Note that the empty string is also the only string that Python considers as False when converting to boolean.",
            "text/plain": [
              "Correct: \n",
              "\n",
              "The empty string has length zero. Note that the empty string is also the only string that Python considers as False when converting to boolean."
            ]
          },
          "metadata": {}
        }
      ]
    },
    {
      "cell_type": "markdown",
      "metadata": {
        "id": "6BEJyfOCArsq"
      },
      "source": [
        "# 0b."
      ]
    },
    {
      "cell_type": "code",
      "metadata": {
        "colab": {
          "base_uri": "https://localhost:8080/",
          "height": 69
        },
        "id": "ff_F-gT5Arsq",
        "outputId": "5611525e-4e1f-435d-81f2-9a6fa6c52a2b"
      },
      "source": [
        "b = \"it's ok\"\n",
        "length =7\n",
        "q0.b.check()"
      ],
      "execution_count": 11,
      "outputs": [
        {
          "output_type": "display_data",
          "data": {
            "application/javascript": [
              "parent.postMessage({\"jupyterEvent\": \"custom.exercise_interaction\", \"data\": {\"outcomeType\": 1, \"valueTowardsCompletion\": 0.3333333333333333, \"interactionType\": 1, \"questionType\": 1, \"questionId\": \"0.2_ZB\", \"learnToolsVersion\": \"0.3.4\", \"failureMessage\": \"\", \"exceptionClass\": \"\", \"trace\": \"\"}}, \"*\")"
            ],
            "text/plain": [
              "<IPython.core.display.Javascript object>"
            ]
          },
          "metadata": {}
        },
        {
          "output_type": "display_data",
          "data": {
            "text/markdown": "<span style=\"color:#33cc33\">Correct:</span> \n\nKeep in mind Python includes spaces (and punctuation) when counting string length.",
            "text/plain": [
              "Correct: \n",
              "\n",
              "Keep in mind Python includes spaces (and punctuation) when counting string length."
            ]
          },
          "metadata": {}
        }
      ]
    },
    {
      "cell_type": "markdown",
      "metadata": {
        "id": "IVj5p4jYArsr"
      },
      "source": [
        "# 0c."
      ]
    },
    {
      "cell_type": "code",
      "metadata": {
        "colab": {
          "base_uri": "https://localhost:8080/",
          "height": 86
        },
        "id": "0wR_fQ2NArsr",
        "outputId": "875548a6-2031-4939-9c7f-f5e9044a8fce"
      },
      "source": [
        "c = 'it\\'s ok'\n",
        "length = 7\n",
        "q0.c.check()"
      ],
      "execution_count": 13,
      "outputs": [
        {
          "output_type": "display_data",
          "data": {
            "application/javascript": [
              "parent.postMessage({\"jupyterEvent\": \"custom.exercise_interaction\", \"data\": {\"outcomeType\": 1, \"valueTowardsCompletion\": 0.3333333333333333, \"interactionType\": 1, \"questionType\": 1, \"questionId\": \"0.3_ZC\", \"learnToolsVersion\": \"0.3.4\", \"failureMessage\": \"\", \"exceptionClass\": \"\", \"trace\": \"\"}}, \"*\")"
            ],
            "text/plain": [
              "<IPython.core.display.Javascript object>"
            ]
          },
          "metadata": {}
        },
        {
          "output_type": "display_data",
          "data": {
            "text/markdown": "<span style=\"color:#33cc33\">Correct:</span> \n\nEven though we use different syntax to create it, the string `c` is identical to `b`. In particular, note that the backslash is not part of the string, so it doesn't contribute to its length.",
            "text/plain": [
              "Correct: \n",
              "\n",
              "Even though we use different syntax to create it, the string `c` is identical to `b`. In particular, note that the backslash is not part of the string, so it doesn't contribute to its length."
            ]
          },
          "metadata": {}
        }
      ]
    },
    {
      "cell_type": "markdown",
      "metadata": {
        "id": "7oS74j9pArss"
      },
      "source": [
        "# 0d."
      ]
    },
    {
      "cell_type": "code",
      "metadata": {
        "colab": {
          "base_uri": "https://localhost:8080/",
          "height": 69
        },
        "id": "B5yt-q0KArst",
        "outputId": "10091854-12c5-4030-9590-b31df4b72446"
      },
      "source": [
        "d = \"\"\"hey\"\"\"\n",
        "length = 3\n",
        "q0.d.check()"
      ],
      "execution_count": 5,
      "outputs": [
        {
          "output_type": "display_data",
          "data": {
            "application/javascript": [
              "parent.postMessage({\"jupyterEvent\": \"custom.exercise_interaction\", \"data\": {\"outcomeType\": 1, \"valueTowardsCompletion\": 0.3333333333333333, \"interactionType\": 1, \"questionType\": 1, \"questionId\": \"0.4_ZD\", \"learnToolsVersion\": \"0.3.4\", \"failureMessage\": \"\", \"exceptionClass\": \"\", \"trace\": \"\"}}, \"*\")"
            ],
            "text/plain": [
              "<IPython.core.display.Javascript object>"
            ]
          },
          "metadata": {}
        },
        {
          "output_type": "display_data",
          "data": {
            "text/markdown": "<span style=\"color:#33cc33\">Correct:</span> \n\nThe fact that this string was created using triple-quote syntax doesn't make any difference in terms of its content or length. This string is exactly the same as `'hey'`.",
            "text/plain": [
              "Correct: \n",
              "\n",
              "The fact that this string was created using triple-quote syntax doesn't make any difference in terms of its content or length. This string is exactly the same as `'hey'`."
            ]
          },
          "metadata": {}
        }
      ]
    },
    {
      "cell_type": "markdown",
      "metadata": {
        "id": "bKcpPbgAArst"
      },
      "source": [
        "# 0e."
      ]
    },
    {
      "cell_type": "code",
      "metadata": {
        "colab": {
          "base_uri": "https://localhost:8080/",
          "height": 69
        },
        "id": "x8pTNAZbArst",
        "outputId": "42fa1ad5-b605-4011-c360-81d3463a4bb7"
      },
      "source": [
        "e = '\\n'\n",
        "length = 1\n",
        "q0.e.check()"
      ],
      "execution_count": 6,
      "outputs": [
        {
          "output_type": "display_data",
          "data": {
            "application/javascript": [
              "parent.postMessage({\"jupyterEvent\": \"custom.exercise_interaction\", \"data\": {\"outcomeType\": 1, \"valueTowardsCompletion\": 0.3333333333333333, \"interactionType\": 1, \"questionType\": 1, \"questionId\": \"0.5_ZE\", \"learnToolsVersion\": \"0.3.4\", \"failureMessage\": \"\", \"exceptionClass\": \"\", \"trace\": \"\"}}, \"*\")"
            ],
            "text/plain": [
              "<IPython.core.display.Javascript object>"
            ]
          },
          "metadata": {}
        },
        {
          "output_type": "display_data",
          "data": {
            "text/markdown": "<span style=\"color:#33cc33\">Correct:</span> \n\nThe newline character is just a single character! (Even though we represent it to Python using a combination of two characters.)",
            "text/plain": [
              "Correct: \n",
              "\n",
              "The newline character is just a single character! (Even though we represent it to Python using a combination of two characters.)"
            ]
          },
          "metadata": {}
        }
      ]
    },
    {
      "cell_type": "markdown",
      "metadata": {
        "id": "6jqMQSeTArsu"
      },
      "source": [
        "# 1.\n",
        "\n",
        "There is a saying that \"Data scientists spend 80% of their time cleaning data, and 20% of their time complaining about cleaning data.\" Let's see if you can write a function to help clean US zip code data. Given a string, it should return whether or not that string represents a valid zip code. For our purposes, a valid zip code is any string consisting of exactly 5 digits.\n",
        "\n",
        "HINT: `str` has a method that will be useful here. Use `help(str)` to review a list of string methods."
      ]
    },
    {
      "cell_type": "code",
      "metadata": {
        "colab": {
          "base_uri": "https://localhost:8080/",
          "height": 46
        },
        "id": "_Q5Z6C5_Arsu",
        "outputId": "985f5348-9e9e-48c0-8778-4f3a6272f30f"
      },
      "source": [
        "def is_valid_zip(zip_code):\n",
        "    \"\"\"Returns whether the input string is a valid (5 digit) zip code\n",
        "    \"\"\"\n",
        "    pass\n",
        "    if len(zip_code) == 5 and zip_code.isdigit():\n",
        "        return True\n",
        "    return False\n",
        "\n",
        "# Check your answer\n",
        "q1.check()"
      ],
      "execution_count": 7,
      "outputs": [
        {
          "output_type": "display_data",
          "data": {
            "application/javascript": [
              "parent.postMessage({\"jupyterEvent\": \"custom.exercise_interaction\", \"data\": {\"outcomeType\": 1, \"valueTowardsCompletion\": 0.3333333333333333, \"interactionType\": 1, \"questionType\": 2, \"questionId\": \"1_ZipValidator\", \"learnToolsVersion\": \"0.3.4\", \"failureMessage\": \"\", \"exceptionClass\": \"\", \"trace\": \"\"}}, \"*\")"
            ],
            "text/plain": [
              "<IPython.core.display.Javascript object>"
            ]
          },
          "metadata": {}
        },
        {
          "output_type": "display_data",
          "data": {
            "text/markdown": "<span style=\"color:#33cc33\">Correct</span>",
            "text/plain": [
              "Correct"
            ]
          },
          "metadata": {}
        }
      ]
    },
    {
      "cell_type": "code",
      "metadata": {
        "id": "RvTqDf0hArsu"
      },
      "source": [
        "#q1.hint()\n",
        "#q1.solution()"
      ],
      "execution_count": null,
      "outputs": []
    },
    {
      "cell_type": "markdown",
      "metadata": {
        "id": "IfkfCJ7KArsv"
      },
      "source": [
        "# 2.\n",
        "\n",
        "A researcher has gathered thousands of news articles. But she wants to focus her attention on articles including a specific word. Complete the function below to help her filter her list of articles.\n",
        "\n",
        "Your function should meet the following criteria:\n",
        "\n",
        "- Do not include documents where the keyword string shows up only as a part of a larger word. For example, if she were looking for the keyword “closed”, you would not include the string “enclosed.” \n",
        "- She does not want you to distinguish upper case from lower case letters. So the phrase “Closed the case.” would be included when the keyword is “closed”\n",
        "- Do not let periods or commas affect what is matched. “It is closed.” would be included when the keyword is “closed”. But you can assume there are no other types of punctuation."
      ]
    },
    {
      "cell_type": "code",
      "metadata": {
        "colab": {
          "base_uri": "https://localhost:8080/",
          "height": 46
        },
        "id": "-oSoWJkuArsv",
        "outputId": "ae04adc2-9bfa-4965-d15f-ead7624a9f6b"
      },
      "source": [
        "def word_search(doc_list, keyword):\n",
        "    \"\"\"\n",
        "    Takes a list of documents (each document is a string) and a keyword. \n",
        "    Returns list of the index values into the original list for all documents \n",
        "    containing the keyword.\n",
        "\n",
        "    Example:\n",
        "    doc_list = [\"The Learn Python Challenge Casino.\", \"They bought a car\", \"Casinoville\"]\n",
        "    >>> word_search(doc_list, 'casino')\n",
        "    >>> [0]\n",
        "    \"\"\"\n",
        "    pass\n",
        "\n",
        "# Check your answer\n",
        "q2.check()"
      ],
      "execution_count": 8,
      "outputs": [
        {
          "output_type": "display_data",
          "data": {
            "application/javascript": [
              "parent.postMessage({\"jupyterEvent\": \"custom.exercise_interaction\", \"data\": {\"outcomeType\": 4, \"interactionType\": 1, \"questionType\": 2, \"questionId\": \"2_WordSearch\", \"learnToolsVersion\": \"0.3.4\", \"valueTowardsCompletion\": 0.0, \"failureMessage\": \"\", \"exceptionClass\": \"\", \"trace\": \"\"}}, \"*\")"
            ],
            "text/plain": [
              "<IPython.core.display.Javascript object>"
            ]
          },
          "metadata": {}
        },
        {
          "output_type": "display_data",
          "data": {
            "text/markdown": "<span style=\"color:#ccaa33\">Check:</span> When you've updated the starter code, `check()` will tell you whether your code is correct. ",
            "text/plain": [
              "Check: When you've updated the starter code, `check()` will tell you whether your code is correct. "
            ]
          },
          "metadata": {}
        }
      ]
    },
    {
      "cell_type": "code",
      "metadata": {
        "colab": {
          "base_uri": "https://localhost:8080/",
          "height": 281
        },
        "id": "NVz1Fi4EArsw",
        "outputId": "143ff8cc-c6f5-456e-e44d-60ff825515e7"
      },
      "source": [
        "#q2.hint()\n",
        "q2.solution()"
      ],
      "execution_count": 9,
      "outputs": [
        {
          "output_type": "display_data",
          "data": {
            "application/javascript": [
              "parent.postMessage({\"jupyterEvent\": \"custom.exercise_interaction\", \"data\": {\"interactionType\": 3, \"questionType\": 2, \"questionId\": \"2_WordSearch\", \"learnToolsVersion\": \"0.3.4\", \"valueTowardsCompletion\": 0.0, \"failureMessage\": \"\", \"exceptionClass\": \"\", \"trace\": \"\", \"outcomeType\": 4}}, \"*\")"
            ],
            "text/plain": [
              "<IPython.core.display.Javascript object>"
            ]
          },
          "metadata": {}
        },
        {
          "output_type": "display_data",
          "data": {
            "text/markdown": "<span style=\"color:#33cc99\">Solution:</span> \n```python\ndef word_search(documents, keyword):\n    # list to hold the indices of matching documents\n    indices = [] \n    # Iterate through the indices (i) and elements (doc) of documents\n    for i, doc in enumerate(documents):\n        # Split the string doc into a list of words (according to whitespace)\n        tokens = doc.split()\n        # Make a transformed list where we 'normalize' each word to facilitate matching.\n        # Periods and commas are removed from the end of each word, and it's set to all lowercase.\n        normalized = [token.rstrip('.,').lower() for token in tokens]\n        # Is there a match? If so, update the list of matching indices.\n        if keyword.lower() in normalized:\n            indices.append(i)\n    return indices\n```",
            "text/plain": [
              "Solution: \n",
              "```python\n",
              "def word_search(documents, keyword):\n",
              "    # list to hold the indices of matching documents\n",
              "    indices = [] \n",
              "    # Iterate through the indices (i) and elements (doc) of documents\n",
              "    for i, doc in enumerate(documents):\n",
              "        # Split the string doc into a list of words (according to whitespace)\n",
              "        tokens = doc.split()\n",
              "        # Make a transformed list where we 'normalize' each word to facilitate matching.\n",
              "        # Periods and commas are removed from the end of each word, and it's set to all lowercase.\n",
              "        normalized = [token.rstrip('.,').lower() for token in tokens]\n",
              "        # Is there a match? If so, update the list of matching indices.\n",
              "        if keyword.lower() in normalized:\n",
              "            indices.append(i)\n",
              "    return indices\n",
              "```"
            ]
          },
          "metadata": {}
        }
      ]
    },
    {
      "cell_type": "markdown",
      "metadata": {
        "id": "DW1xT-QCArsw"
      },
      "source": [
        "# 3.\n",
        "\n",
        "Now the researcher wants to supply multiple keywords to search for. Complete the function below to help her.\n",
        "\n",
        "(You're encouraged to use the `word_search` function you just wrote when implementing this function. Reusing code in this way makes your programs more robust and readable - and it saves typing!)"
      ]
    },
    {
      "cell_type": "code",
      "metadata": {
        "id": "iLSHw--YArsx"
      },
      "source": [
        "def multi_word_search(doc_list, keywords):\n",
        "    \"\"\"\n",
        "    Takes list of documents (each document is a string) and a list of keywords.  \n",
        "    Returns a dictionary where each key is a keyword, and the value is a list of indices\n",
        "    (from doc_list) of the documents containing that keyword\n",
        "\n",
        "    >>> doc_list = [\"The Learn Python Challenge Casino.\", \"They bought a car and a casino\", \"Casinoville\"]\n",
        "    >>> keywords = ['casino', 'they']\n",
        "    >>> multi_word_search(doc_list, keywords)\n",
        "    {'casino': [0, 1], 'they': [1]}\n",
        "    \"\"\"\n",
        "    pass\n",
        "\n",
        "# Check your answer\n",
        "q3.check()"
      ],
      "execution_count": null,
      "outputs": []
    },
    {
      "cell_type": "code",
      "metadata": {
        "colab": {
          "base_uri": "https://localhost:8080/",
          "height": 130
        },
        "id": "LkCgyd1IArsx",
        "outputId": "be10d543-71ee-4474-bef0-60e3deb8886b"
      },
      "source": [
        "q3.solution()"
      ],
      "execution_count": 10,
      "outputs": [
        {
          "output_type": "display_data",
          "data": {
            "application/javascript": [
              "parent.postMessage({\"jupyterEvent\": \"custom.exercise_interaction\", \"data\": {\"interactionType\": 3, \"questionType\": 2, \"questionId\": \"3_MultiWordSearch\", \"learnToolsVersion\": \"0.3.4\", \"valueTowardsCompletion\": 0.0, \"failureMessage\": \"\", \"exceptionClass\": \"\", \"trace\": \"\", \"outcomeType\": 4}}, \"*\")"
            ],
            "text/plain": [
              "<IPython.core.display.Javascript object>"
            ]
          },
          "metadata": {}
        },
        {
          "output_type": "display_data",
          "data": {
            "text/markdown": "<span style=\"color:#33cc99\">Solution:</span> \n```python\ndef multi_word_search(documents, keywords):\n    keyword_to_indices = {}\n    for keyword in keywords:\n        keyword_to_indices[keyword] = word_search(documents, keyword)\n    return keyword_to_indices\n```",
            "text/plain": [
              "Solution: \n",
              "```python\n",
              "def multi_word_search(documents, keywords):\n",
              "    keyword_to_indices = {}\n",
              "    for keyword in keywords:\n",
              "        keyword_to_indices[keyword] = word_search(documents, keyword)\n",
              "    return keyword_to_indices\n",
              "```"
            ]
          },
          "metadata": {}
        }
      ]
    }
  ]
}